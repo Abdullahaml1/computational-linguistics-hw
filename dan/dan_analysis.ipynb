{
 "cells": [
  {
   "cell_type": "markdown",
   "id": "05d27a21-d72c-4aa1-9336-a98fef47ae3f",
   "metadata": {},
   "source": [
    "# Deep Averageing Netrok Analysis"
   ]
  },
  {
   "cell_type": "code",
   "execution_count": 26,
   "id": "3ddad5ac-78b0-4b26-9163-a3694c4a24ae",
   "metadata": {
    "tags": []
   },
   "outputs": [
    {
     "name": "stdout",
     "output_type": "stream",
     "text": [
      "tensor([[1, 2, 3],\n",
      "        [0, 2, 4]], dtype=torch.int32)\n",
      "tensor([[[-1.9397,  0.2808,  0.1792, -0.8886, -1.1591],\n",
      "         [-0.4551, -0.0365,  1.0608, -0.9280,  1.3957],\n",
      "         [-1.0040, -1.2729, -1.0683, -0.4566,  0.2929]],\n",
      "\n",
      "        [[ 0.0336,  0.4580, -0.2843, -1.3153,  0.1273],\n",
      "         [-0.4551, -0.0365,  1.0608, -0.9280,  1.3957],\n",
      "         [ 0.9413,  1.1517, -1.1855, -0.7650,  1.0793]]],\n",
      "       grad_fn=<EmbeddingBackward0>)\n",
      "torch.Size([2, 3, 5])\n",
      "tensor([[-3.3987, -1.0286,  0.1717, -2.2731,  0.5296],\n",
      "        [ 0.5198,  1.5732, -0.4090, -3.0082,  2.6024]], grad_fn=<SumBackward1>)\n",
      "torch.Size([2, 5])\n",
      "torch.Size([2])\n"
     ]
    },
    {
     "data": {
      "text/plain": [
       "tensor([[-1.1329, -0.3429,  0.0572, -0.7577,  0.1765],\n",
       "        [ 0.2599,  0.7866, -0.2045, -1.5041,  1.3012]], grad_fn=<DivBackward0>)"
      ]
     },
     "execution_count": 26,
     "metadata": {},
     "output_type": "execute_result"
    }
   ],
   "source": [
    "import torch\n",
    "\n",
    "embd = torch.nn.Embedding(20, 5)\n",
    "x = torch.tensor([[1, 2, 3], [0, 2, 4]], dtype=torch.int32)\n",
    "print(x)\n",
    "out = embd(x)\n",
    "print(out)\n",
    "print(out.shape)\n",
    "print(out.sum(axis=1))\n",
    "print(out.sum(axis=1).shape)\n",
    "lenthes = torch.tensor([3, 2])\n",
    "print(lenthes.shape)\n",
    "out.sum(axis=1)/lenthes.reshape([-1, 1])"
   ]
  },
  {
   "cell_type": "markdown",
   "id": "202a71e7-4af4-4251-88cf-ece791a41617",
   "metadata": {
    "tags": []
   },
   "source": [
    "# Training"
   ]
  },
  {
   "cell_type": "markdown",
   "id": "7c4244c5-3a25-437e-a845-23e368536d22",
   "metadata": {},
   "source": [
    "## Training with no pretrained Embeddings"
   ]
  },
  {
   "cell_type": "code",
   "execution_count": 41,
   "id": "036f18f7-fa40-4fff-85f2-fce0a9bbd916",
   "metadata": {
    "tags": []
   },
   "outputs": [
    {
     "name": "stdout",
     "output_type": "stream",
     "text": [
      "2\n",
      "DanModel(\n",
      "  (embeddings): Embedding(12678, 50, padding_idx=0)\n",
      "  (linear1): Linear(in_features=50, out_features=50, bias=True)\n",
      "  (linear2): Linear(in_features=50, out_features=2, bias=True)\n",
      "  (_softmax): Softmax(dim=1)\n",
      "  (linear_stack): Sequential(\n",
      "    (0): Linear(in_features=50, out_features=50, bias=True)\n",
      "    (1): ReLU()\n",
      "    (2): Dropout(p=0.5, inplace=False)\n",
      "    (3): Linear(in_features=50, out_features=2, bias=True)\n",
      "  )\n",
      ")\n",
      "start epoch 0\n",
      "number of steps: 10, loss: 0.76076 time: 0.19642\n",
      "accuracy 0.5874587458745875\n",
      "number of steps: 20, loss: 0.68439 time: 0.40817\n",
      "accuracy 0.6171617161716172\n",
      "start epoch 1\n",
      "number of steps: 10, loss: 0.74532 time: 0.18718\n",
      "accuracy 0.6683168316831682\n",
      "number of steps: 20, loss: 0.65972 time: 0.38661\n",
      "accuracy 0.698019801980198\n",
      "start epoch 2\n",
      "number of steps: 10, loss: 0.70656 time: 0.20366\n",
      "accuracy 0.7475247524752475\n",
      "number of steps: 20, loss: 0.61711 time: 0.40451\n",
      "accuracy 0.7656765676567656\n",
      "start epoch 3\n",
      "number of steps: 10, loss: 0.64432 time: 0.17182\n",
      "accuracy 0.7788778877887789\n",
      "number of steps: 20, loss: 0.54457 time: 0.35726\n",
      "accuracy 0.7986798679867987\n",
      "start epoch 4\n",
      "number of steps: 10, loss: 0.56178 time: 0.17839\n",
      "accuracy 0.8118811881188119\n",
      "number of steps: 20, loss: 0.45949 time: 0.36972\n",
      "accuracy 0.8201320132013201\n",
      "start epoch 5\n",
      "number of steps: 10, loss: 0.47138 time: 0.19847\n",
      "accuracy 0.8366336633663366\n",
      "number of steps: 20, loss: 0.40192 time: 0.40034\n",
      "accuracy 0.8382838283828383\n",
      "start epoch 6\n",
      "number of steps: 10, loss: 0.41380 time: 0.19106\n",
      "accuracy 0.8267326732673268\n",
      "number of steps: 20, loss: 0.35266 time: 0.38401\n",
      "accuracy 0.863036303630363\n",
      "start epoch 7\n",
      "number of steps: 10, loss: 0.36018 time: 0.18632\n",
      "accuracy 0.8646864686468647\n",
      "number of steps: 20, loss: 0.29503 time: 0.38742\n",
      "accuracy 0.8613861386138614\n",
      "start epoch 8\n",
      "number of steps: 10, loss: 0.32275 time: 0.19989\n",
      "accuracy 0.8696369636963697\n",
      "number of steps: 20, loss: 0.26658 time: 0.54632\n",
      "accuracy 0.8432343234323432\n",
      "start epoch 9\n",
      "number of steps: 10, loss: 0.28480 time: 0.19540\n",
      "accuracy 0.8679867986798679\n",
      "number of steps: 20, loss: 0.24310 time: 0.41442\n",
      "accuracy 0.8712871287128713\n",
      "start epoch 10\n",
      "number of steps: 10, loss: 0.28307 time: 0.17084\n",
      "accuracy 0.8564356435643564\n",
      "number of steps: 20, loss: 0.19904 time: 0.37272\n",
      "accuracy 0.8844884488448845\n",
      "start epoch 11\n",
      "number of steps: 10, loss: 0.25870 time: 0.18863\n",
      "accuracy 0.8778877887788779\n",
      "number of steps: 20, loss: 0.18762 time: 0.44549\n",
      "accuracy 0.8729372937293729\n",
      "start epoch 12\n",
      "number of steps: 10, loss: 0.21439 time: 0.19809\n",
      "accuracy 0.8943894389438944\n",
      "number of steps: 20, loss: 0.17321 time: 0.38368\n",
      "accuracy 0.8762376237623762\n",
      "start epoch 13\n",
      "number of steps: 10, loss: 0.20558 time: 0.23342\n",
      "accuracy 0.8844884488448845\n",
      "number of steps: 20, loss: 0.14915 time: 0.42805\n",
      "accuracy 0.8795379537953796\n",
      "start epoch 14\n",
      "number of steps: 10, loss: 0.17680 time: 0.19651\n",
      "accuracy 0.8828382838283828\n",
      "number of steps: 20, loss: 0.14167 time: 0.36718\n",
      "accuracy 0.8960396039603961\n",
      "start epoch 15\n",
      "number of steps: 10, loss: 0.16377 time: 0.17595\n",
      "accuracy 0.8828382838283828\n",
      "number of steps: 20, loss: 0.14039 time: 0.35274\n",
      "accuracy 0.8844884488448845\n",
      "start epoch 16\n",
      "number of steps: 10, loss: 0.13478 time: 0.18845\n",
      "accuracy 0.8943894389438944\n",
      "number of steps: 20, loss: 0.12857 time: 0.37561\n",
      "accuracy 0.8976897689768977\n",
      "start epoch 17\n",
      "number of steps: 10, loss: 0.15096 time: 0.18170\n",
      "accuracy 0.8943894389438944\n",
      "number of steps: 20, loss: 0.09660 time: 0.37390\n",
      "accuracy 0.9042904290429042\n",
      "start epoch 18\n",
      "number of steps: 10, loss: 0.10359 time: 0.16837\n",
      "accuracy 0.900990099009901\n",
      "number of steps: 20, loss: 0.11760 time: 0.37551\n",
      "accuracy 0.9092409240924092\n",
      "start epoch 19\n",
      "number of steps: 10, loss: 0.10180 time: 0.17661\n",
      "accuracy 0.9141914191419142\n",
      "number of steps: 20, loss: 0.09617 time: 0.37549\n",
      "accuracy 0.9075907590759076\n",
      "start testing:\n",
      "\n",
      "accuracy 0.8857589984350548\n"
     ]
    }
   ],
   "source": [
    "!python3  dan.py --num-epochs=20 --checkpoint=10"
   ]
  },
  {
   "cell_type": "code",
   "execution_count": null,
   "id": "1f3e2ddc-0417-477c-8968-212d17159495",
   "metadata": {},
   "outputs": [],
   "source": []
  }
 ],
 "metadata": {
  "kernelspec": {
   "display_name": "Python 3 (ipykernel)",
   "language": "python",
   "name": "python3"
  },
  "language_info": {
   "codemirror_mode": {
    "name": "ipython",
    "version": 3
   },
   "file_extension": ".py",
   "mimetype": "text/x-python",
   "name": "python",
   "nbconvert_exporter": "python",
   "pygments_lexer": "ipython3",
   "version": "3.10.6"
  }
 },
 "nbformat": 4,
 "nbformat_minor": 5
}
