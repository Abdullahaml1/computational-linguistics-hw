{
 "cells": [
  {
   "cell_type": "markdown",
   "id": "05d27a21-d72c-4aa1-9336-a98fef47ae3f",
   "metadata": {},
   "source": [
    "# Deep Averageing Netrok Analysis"
   ]
  },
  {
   "cell_type": "code",
   "execution_count": 50,
   "id": "3ddad5ac-78b0-4b26-9163-a3694c4a24ae",
   "metadata": {
    "tags": []
   },
   "outputs": [
    {
     "name": "stdout",
     "output_type": "stream",
     "text": [
      "tensor([[1, 2, 3],\n",
      "        [0, 2, 4]], dtype=torch.int32)\n",
      "tensor([[[ 1.0482,  2.0123, -0.5793, -1.6339,  0.5679],\n",
      "         [-1.3865,  0.5137,  0.2737, -0.3556,  0.5181],\n",
      "         [-1.4103, -0.2406, -1.9688, -0.3529,  1.5662]],\n",
      "\n",
      "        [[-0.9058, -1.4235,  0.4452,  0.2892,  1.4724],\n",
      "         [-1.3865,  0.5137,  0.2737, -0.3556,  0.5181],\n",
      "         [ 1.4639,  0.1712, -0.5358,  1.1458,  0.2673]]],\n",
      "       grad_fn=<EmbeddingBackward0>)\n",
      "torch.Size([2, 3, 5])\n",
      "tensor([[-1.7486,  2.2854, -2.2744, -2.3424,  2.6523],\n",
      "        [-0.8284, -0.7387,  0.1831,  1.0793,  2.2579]], grad_fn=<SumBackward1>)\n",
      "torch.Size([2, 5])\n",
      "torch.Size([2])\n"
     ]
    },
    {
     "data": {
      "text/plain": [
       "tensor([[-0.5829,  0.7618, -0.7581, -0.7808,  0.8841],\n",
       "        [-0.4142, -0.3693,  0.0916,  0.5397,  1.1289]], grad_fn=<DivBackward0>)"
      ]
     },
     "execution_count": 50,
     "metadata": {},
     "output_type": "execute_result"
    }
   ],
   "source": [
    "import torch\n",
    "\n",
    "embd = torch.nn.Embedding(20, 5)\n",
    "x = torch.tensor([[1, 2, 3], [0, 2, 4]], dtype=torch.int32)\n",
    "print(x)\n",
    "out = embd(x)\n",
    "print(out)\n",
    "print(out.shape)\n",
    "print(out.sum(axis=1))\n",
    "print(out.sum(axis=1).shape)\n",
    "lenthes = torch.tensor([3, 2])\n",
    "print(lenthes.shape)\n",
    "out.sum(axis=1)/lenthes.reshape([-1, 1])"
   ]
  },
  {
   "cell_type": "code",
   "execution_count": 72,
   "id": "38e6a1c7-97b4-4176-8d87-19a14f5abe7d",
   "metadata": {
    "tags": []
   },
   "outputs": [
    {
     "name": "stdout",
     "output_type": "stream",
     "text": [
      "accuracy= 0.6\n",
      "accuracy= 0.6\n"
     ]
    }
   ],
   "source": [
    "out = torch.randn(10, 2)\n",
    "labels = torch.randint(0, 2,size=(10,))\n",
    "labels\n",
    "topval, topi = out.topk(1, dim=1)\n",
    "true_vals = labels[labels == topi.reshape([10,])].shape[0]\n",
    "error_vals = torch.nonzero(labels-topi.squeeze()).shape[0]\n",
    "print('accuracy=', true_vals/labels.shape[0])\n",
    "print('accuracy=', 1-(error_vals/labels.shape[0]))"
   ]
  },
  {
   "cell_type": "markdown",
   "id": "202a71e7-4af4-4251-88cf-ece791a41617",
   "metadata": {
    "tags": []
   },
   "source": [
    "# Training"
   ]
  },
  {
   "cell_type": "markdown",
   "id": "7c4244c5-3a25-437e-a845-23e368536d22",
   "metadata": {},
   "source": [
    "## Training with no pretrained Embeddings"
   ]
  },
  {
   "cell_type": "code",
   "execution_count": 103,
   "id": "036f18f7-fa40-4fff-85f2-fce0a9bbd916",
   "metadata": {
    "tags": []
   },
   "outputs": [
    {
     "name": "stdout",
     "output_type": "stream",
     "text": [
      "2\n",
      "DanModel(\n",
      "  (embeddings): Embedding(12678, 50, padding_idx=0)\n",
      "  (linear1): Linear(in_features=50, out_features=50, bias=True)\n",
      "  (linear2): Linear(in_features=50, out_features=2, bias=True)\n",
      "  (_softmax): Softmax(dim=1)\n",
      "  (linear_stack): Sequential(\n",
      "    (0): Linear(in_features=50, out_features=50, bias=True)\n",
      "    (1): ReLU()\n",
      "    (2): Dropout(p=0.5, inplace=False)\n",
      "    (3): Linear(in_features=50, out_features=2, bias=True)\n",
      "  )\n",
      ")\n",
      "start epoch 0\n",
      "torch.float32\n",
      "torch.int64\n",
      "torch.float32\n",
      "torch.int64\n",
      "torch.float32\n",
      "torch.int64\n",
      "torch.float32\n",
      "torch.int64\n",
      "torch.float32\n",
      "torch.int64\n",
      "# of steps=10, Avg Train Loss=0.005450, Avg Dev Loss=0.005676, Train Acc=0.953125, Dev Acc=0.580858, Time: 2.001552\n",
      "torch.float32\n",
      "torch.int64\n",
      "torch.float32\n",
      "torch.int64\n",
      "torch.float32\n",
      "torch.int64\n",
      "torch.float32\n",
      "torch.int64\n",
      "torch.float32\n",
      "torch.int64\n",
      "# of steps=20, Avg Train Loss=0.005351, Avg Dev Loss=0.005624, Train Acc=0.960156, Dev Acc=0.613861, Time: 2.207488\n",
      "----------------------------------------------------------\n",
      "\n",
      "start epoch 1\n",
      "torch.float32\n",
      "torch.int64\n",
      "torch.float32\n",
      "torch.int64\n",
      "torch.float32\n",
      "torch.int64\n",
      "torch.float32\n",
      "torch.int64\n",
      "torch.float32\n",
      "torch.int64\n",
      "# of steps=10, Avg Train Loss=0.005258, Avg Dev Loss=0.005516, Train Acc=0.968040, Dev Acc=0.668317, Time: 0.330728\n",
      "torch.float32\n",
      "torch.int64\n",
      "torch.float32\n",
      "torch.int64\n",
      "torch.float32\n",
      "torch.int64\n",
      "torch.float32\n",
      "torch.int64\n",
      "torch.float32\n",
      "torch.int64\n",
      "# of steps=20, Avg Train Loss=0.005123, Avg Dev Loss=0.005416, Train Acc=0.975000, Dev Acc=0.653465, Time: 0.569310\n",
      "----------------------------------------------------------\n",
      "\n",
      "start epoch 2\n",
      "torch.float32\n",
      "torch.int64\n",
      "torch.float32\n",
      "torch.int64\n",
      "torch.float32\n",
      "torch.int64\n",
      "torch.float32\n",
      "torch.int64\n",
      "torch.float32\n",
      "torch.int64\n",
      "# of steps=10, Avg Train Loss=0.004909, Avg Dev Loss=0.005230, Train Acc=0.982244, Dev Acc=0.674917, Time: 0.368444\n",
      "torch.float32\n",
      "torch.int64\n",
      "torch.float32\n",
      "torch.int64\n",
      "torch.float32\n",
      "torch.int64\n",
      "torch.float32\n",
      "torch.int64\n",
      "torch.float32\n",
      "torch.int64\n",
      "# of steps=20, Avg Train Loss=0.004736, Avg Dev Loss=0.005090, Train Acc=0.974219, Dev Acc=0.665017, Time: 0.587813\n",
      "----------------------------------------------------------\n",
      "\n",
      "Figure(1000x400)\n",
      "start testing:\n",
      "\n",
      "torch.float32\n",
      "torch.int64\n",
      "Traceback (most recent call last):\n",
      "  File \"/home/abdullah/Documents/courses/computational-linguistics-hw/dan/dan.py\", line 569, in <module>\n",
      "    test_acc, test_loss = evaluate(test_loader, model, nn.CrossEntropyLoss, device)\n",
      "  File \"/home/abdullah/Documents/courses/computational-linguistics-hw/dan/dan.py\", line 227, in evaluate\n",
      "    total_loss += loss_fun(logits, labels).item()\n",
      "  File \"/home/abdullah/.local/lib/python3.10/site-packages/torch/nn/modules/loss.py\", line 1169, in __init__\n",
      "    super(CrossEntropyLoss, self).__init__(weight, size_average, reduce, reduction)\n",
      "  File \"/home/abdullah/.local/lib/python3.10/site-packages/torch/nn/modules/loss.py\", line 30, in __init__\n",
      "    super(_WeightedLoss, self).__init__(size_average, reduce, reduction)\n",
      "  File \"/home/abdullah/.local/lib/python3.10/site-packages/torch/nn/modules/loss.py\", line 23, in __init__\n",
      "    self.reduction: str = _Reduction.legacy_get_string(size_average, reduce)\n",
      "  File \"/home/abdullah/.local/lib/python3.10/site-packages/torch/nn/_reduction.py\", line 35, in legacy_get_string\n",
      "    if size_average and reduce:\n",
      "RuntimeError: Boolean value of Tensor with more than one value is ambiguous\n"
     ]
    }
   ],
   "source": [
    "!python3  dan.py --num-epochs=3 --checkpoint=10 "
   ]
  },
  {
   "cell_type": "code",
   "execution_count": null,
   "id": "1f3e2ddc-0417-477c-8968-212d17159495",
   "metadata": {},
   "outputs": [],
   "source": []
  }
 ],
 "metadata": {
  "kernelspec": {
   "display_name": "Python 3 (ipykernel)",
   "language": "python",
   "name": "python3"
  },
  "language_info": {
   "codemirror_mode": {
    "name": "ipython",
    "version": 3
   },
   "file_extension": ".py",
   "mimetype": "text/x-python",
   "name": "python",
   "nbconvert_exporter": "python",
   "pygments_lexer": "ipython3",
   "version": "3.10.6"
  }
 },
 "nbformat": 4,
 "nbformat_minor": 5
}
