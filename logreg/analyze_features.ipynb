{
 "cells": [
  {
   "cell_type": "markdown",
   "id": "cac82e47-aad2-47f6-8f1c-b0f8dbc4f985",
   "metadata": {},
   "source": [
    "# Analyzing uingram Features of logstic regression"
   ]
  },
  {
   "cell_type": "code",
   "execution_count": 2,
   "id": "f6ccde49-bd90-4c04-a2b2-05bfc6a7b7b7",
   "metadata": {
    "tags": []
   },
   "outputs": [],
   "source": [
    "import numpy as np\n",
    "import matplotlib.pyplot as plt\n",
    "from logreg import read_dataset"
   ]
  },
  {
   "cell_type": "code",
   "execution_count": 3,
   "id": "395028b5-1c88-4ff9-af48-9de0b6ceb298",
   "metadata": {
    "tags": []
   },
   "outputs": [],
   "source": [
    "train, test, vocab = read_dataset('data/positive', 'data/negative', 'data/vocab')"
   ]
  },
  {
   "cell_type": "code",
   "execution_count": null,
   "id": "53a60c7e-fdcf-4566-aa01-4a8c02562542",
   "metadata": {},
   "outputs": [],
   "source": [
    "def most_important_features(data,vocab, threshold=1):\n",
    "    \"\"\"\n",
    "    :param data: list of Example objects\n",
    "    :param vocab list of words\n",
    "    :param threshold: the number at which we neglegt redudant features\n",
    "    :return: (pos_freq, neg_freq, words)\n",
    "    \"\"\"\n",
    "    # normalize the data by the number of types in each example\n",
    "    for ex in data:\n",
    "        ex.x/len(ex.wrod_types_count) # x in numpy array\n",
    "        \n",
    "    # split positive and negative\n",
    "    pos = []\n",
    "    neg = []\n",
    "    for ex in data:\n",
    "        if ex.y ==1:\n",
    "            pos.append(ex)\n",
    "        else:\n",
    "            neg.append(ex)\n",
    "            \n",
    "    lenth = min(len(pos), len(neg))\n",
    "    \n",
    "    # returning \n",
    "    for i in range(lenth):\n",
    "        \n",
    "        "
   ]
  }
 ],
 "metadata": {
  "kernelspec": {
   "display_name": "Python 3 (ipykernel)",
   "language": "python",
   "name": "python3"
  },
  "language_info": {
   "codemirror_mode": {
    "name": "ipython",
    "version": 3
   },
   "file_extension": ".py",
   "mimetype": "text/x-python",
   "name": "python",
   "nbconvert_exporter": "python",
   "pygments_lexer": "ipython3",
   "version": "3.10.6"
  }
 },
 "nbformat": 4,
 "nbformat_minor": 5
}
