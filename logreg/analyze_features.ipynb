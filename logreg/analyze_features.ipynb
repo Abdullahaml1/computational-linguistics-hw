{
 "cells": [
  {
   "cell_type": "markdown",
   "id": "33c4e367-076a-4220-b9f8-5fd0ab0aca14",
   "metadata": {},
   "source": [
    "# Binary Text Classification"
   ]
  },
  {
   "cell_type": "markdown",
   "id": "26c69afb-1036-4df5-8172-d39852be298b",
   "metadata": {},
   "source": [
    "## TODO\n",
    "* adjust early stoping [DONE]()\n",
    "* ploting [done]()\n",
    "* display plot on jupyter [Done]()\n",
    "* get the most test accuracy of the model [Done]()\n",
    "* adding Dateset calss[done]()\n",
    "* adding normalization [done]()\n",
    "* analyzning features"
   ]
  },
  {
   "cell_type": "markdown",
   "id": "a5ec8d08-6009-4d3d-afd7-544a1e8f26b3",
   "metadata": {},
   "source": [
    "## Learning Rate schedules:\n",
    "* time based\n",
    "* exponenetial\n",
    "* step\n",
    "* adaptive learning rate:\n",
    "    * Momentum\n",
    "    * adagrade\n",
    "    * RMS prob\n",
    "    * Adam\n",
    "    * Deep learning learning rate (using LSTMs, [reiformcnt learning](https://arxiv.org/pdf/1909.09712.pdf)\n",
    "---------------\n",
    "| Adaptive Learning Rate Schedule | Non adaptive |\n",
    "|------------|--------------|\n",
    "|faster in convergence | slower in convergence |\n",
    "|generalizes worst in simple problems and images (data close to mean -> Guassian) and bad test and train loss [[1]](https://proceedings.neurips.cc/paper/2017/file/81b3833e2504647f9d794f7d7b9bf341-Paper.pdf)  | generalizes better in simple problems and images (data close to mean -> Guassian) and better test and train l\n",
    "|better in heavy tailed didtribution (date is very var from mean) like: BERT[[2]](https://proceedings.neurips.cc/paper/2020/file/b05b57f6add810d3b7490866d74c0053-Paper.pdf) | worst |"
   ]
  },
  {
   "cell_type": "markdown",
   "id": "e3016459-1a66-40ba-a109-22e9d05c2fcc",
   "metadata": {},
   "source": [
    "## Training"
   ]
  },
  {
   "cell_type": "markdown",
   "id": "6ace1d6f-30e8-40fe-be28-9cfe749c5b76",
   "metadata": {},
   "source": [
    "### Training all features without normalization"
   ]
  },
  {
   "cell_type": "code",
   "execution_count": 1,
   "id": "4551b246-56ea-420c-9f93-45488e109a25",
   "metadata": {
    "tags": []
   },
   "outputs": [
    {
     "name": "stdout",
     "output_type": "stream",
     "text": [
      "Read in 1064 train and 133 test\n",
      "Epoch:1\n",
      "Train logP=-521.886868 Test logP=-139.687949 Train Acc=0.869361 Test Acc=0.744361 TrainLoss=0.701773 TestLoss=1.515146\n",
      "----------------------------\n",
      "Epoch:2\n",
      "Train logP=-217.544358 Test logP=-87.812548 Train Acc=0.936090 Test Acc=0.804511 TrainLoss=0.292573 TestLoss=0.952511\n",
      "----------------------------\n",
      "Epoch:3\n",
      "Train logP=-113.082500 Test logP=-71.322012 Train Acc=0.963346 Test Acc=0.849624 TrainLoss=0.153330 TestLoss=0.773635\n",
      "----------------------------\n",
      "Epoch:4\n",
      "Train logP=-73.666915 Test logP=-67.366276 Train Acc=0.971805 Test Acc=0.842105 TrainLoss=0.099886 TestLoss=0.730733\n",
      "----------------------------\n",
      "Epoch:5\n",
      "Train logP=-56.077619 Test logP=-64.242176 Train Acc=0.976504 Test Acc=0.864662 TrainLoss=0.076037 TestLoss=0.696842\n",
      "----------------------------\n",
      "Epoch:6\n",
      "Train logP=-45.352154 Test logP=-62.609569 Train Acc=0.980263 Test Acc=0.864662 TrainLoss=0.061494 TestLoss=0.679134\n",
      "----------------------------\n",
      "Epoch:7\n",
      "Train logP=-38.466759 Test logP=-61.194573 Train Acc=0.984962 Test Acc=0.864662 TrainLoss=0.052158 TestLoss=0.663780\n",
      "----------------------------\n",
      "Epoch:8\n",
      "Train logP=-32.956624 Test logP=-59.854989 Train Acc=0.986842 Test Acc=0.864662 TrainLoss=0.044686 TestLoss=0.649249\n",
      "----------------------------\n",
      "Epoch:9\n",
      "Train logP=-28.547823 Test logP=-58.719548 Train Acc=0.987782 Test Acc=0.864662 TrainLoss=0.038708 TestLoss=0.636932\n",
      "----------------------------\n",
      "Epoch:10\n",
      "Train logP=-24.910109 Test logP=-57.925270 Train Acc=0.989662 Test Acc=0.872180 TrainLoss=0.033776 TestLoss=0.628317\n",
      "----------------------------\n",
      "Epoch:11\n",
      "Train logP=-21.915473 Test logP=-57.307996 Train Acc=0.990602 Test Acc=0.887218 TrainLoss=0.029716 TestLoss=0.621621\n",
      "----------------------------\n",
      "Epoch:12\n",
      "Train logP=-19.422459 Test logP=-56.779832 Train Acc=0.993421 Test Acc=0.887218 TrainLoss=0.026335 TestLoss=0.615892\n",
      "----------------------------\n",
      "Epoch:13\n",
      "Train logP=-17.309282 Test logP=-56.276953 Train Acc=0.993421 Test Acc=0.887218 TrainLoss=0.023470 TestLoss=0.610436\n",
      "----------------------------\n",
      "Epoch:14\n",
      "Train logP=-15.497302 Test logP=-55.772323 Train Acc=0.994361 Test Acc=0.887218 TrainLoss=0.021013 TestLoss=0.604962\n",
      "----------------------------\n",
      "Epoch:15\n",
      "Train logP=-13.940727 Test logP=-55.268506 Train Acc=0.996241 Test Acc=0.894737 TrainLoss=0.018902 TestLoss=0.599496\n",
      "----------------------------\n",
      "Epoch:16\n",
      "Train logP=-12.606799 Test logP=-54.783600 Train Acc=0.997180 Test Acc=0.894737 TrainLoss=0.017094 TestLoss=0.594235\n",
      "----------------------------\n",
      "Epoch:17\n",
      "Train logP=-11.464585 Test logP=-54.337627 Train Acc=0.997180 Test Acc=0.902256 TrainLoss=0.015545 TestLoss=0.589396\n",
      "----------------------------\n",
      "Epoch:18\n",
      "Train logP=-10.484285 Test logP=-53.943659 Train Acc=0.997180 Test Acc=0.902256 TrainLoss=0.014216 TestLoss=0.585122\n",
      "----------------------------\n",
      "Epoch:19\n",
      "Train logP=-9.637899 Test logP=-53.604167 Train Acc=0.997180 Test Acc=0.909774 TrainLoss=0.013068 TestLoss=0.581438\n",
      "----------------------------\n",
      "Epoch:20\n",
      "Train logP=-8.900226 Test logP=-53.313347 Train Acc=0.997180 Test Acc=0.909774 TrainLoss=0.012068 TestLoss=0.578282\n",
      "----------------------------\n",
      "Epoch:21\n",
      "Train logP=-8.250429 Test logP=-53.062683 Train Acc=0.997180 Test Acc=0.909774 TrainLoss=0.011187 TestLoss=0.575562\n",
      "----------------------------\n",
      "Epoch:22\n",
      "Train logP=-7.672043 Test logP=-52.844520 Train Acc=0.997180 Test Acc=0.909774 TrainLoss=0.010403 TestLoss=0.573194\n",
      "----------------------------\n",
      "Epoch:23\n",
      "Train logP=-7.151903 Test logP=-52.652882 Train Acc=0.998120 Test Acc=0.909774 TrainLoss=0.009697 TestLoss=0.571114\n",
      "----------------------------\n",
      "Epoch:24\n",
      "Train logP=-6.679257 Test logP=-52.483157 Train Acc=0.998120 Test Acc=0.909774 TrainLoss=0.009056 TestLoss=0.569272\n",
      "----------------------------\n",
      "Epoch:25\n",
      "Train logP=-6.245397 Test logP=-52.331608 Train Acc=0.998120 Test Acc=0.909774 TrainLoss=0.008468 TestLoss=0.567627\n",
      "----------------------------\n",
      "Epoch:26\n",
      "Train logP=-5.843606 Test logP=-52.195037 Train Acc=0.998120 Test Acc=0.909774 TrainLoss=0.007923 TestLoss=0.566144\n",
      "----------------------------\n",
      "Epoch:27\n",
      "Train logP=-5.469272 Test logP=-52.070656 Train Acc=0.998120 Test Acc=0.909774 TrainLoss=0.007416 TestLoss=0.564794\n",
      "----------------------------\n",
      "Epoch:28\n",
      "Train logP=-5.120060 Test logP=-51.956178 Train Acc=0.999060 Test Acc=0.909774 TrainLoss=0.006942 TestLoss=0.563551\n",
      "----------------------------\n",
      "Epoch:29\n",
      "Train logP=-4.795934 Test logP=-51.850127 Train Acc=0.999060 Test Acc=0.909774 TrainLoss=0.006503 TestLoss=0.562400\n",
      "----------------------------\n",
      "Epoch:30\n",
      "Train logP=-4.498613 Test logP=-51.752287 Train Acc=0.999060 Test Acc=0.909774 TrainLoss=0.006100 TestLoss=0.561338\n",
      "----------------------------\n",
      "Epoch:31\n",
      "Train logP=-4.230108 Test logP=-51.663931 Train Acc=0.999060 Test Acc=0.909774 TrainLoss=0.005736 TestLoss=0.560379\n",
      "----------------------------\n",
      "Epoch:32\n",
      "Train logP=-3.990836 Test logP=-51.587317 Train Acc=0.999060 Test Acc=0.909774 TrainLoss=0.005411 TestLoss=0.559547\n",
      "----------------------------\n",
      "Epoch:33\n",
      "Train logP=-3.778701 Test logP=-51.524406 Train Acc=0.999060 Test Acc=0.909774 TrainLoss=0.005124 TestLoss=0.558864\n",
      "----------------------------\n",
      "Epoch:34\n",
      "Train logP=-3.589837 Test logP=-51.475753 Train Acc=0.999060 Test Acc=0.909774 TrainLoss=0.004868 TestLoss=0.558335\n",
      "----------------------------\n",
      "Epoch:35\n",
      "Train logP=-3.420049 Test logP=-51.440399 Train Acc=0.999060 Test Acc=0.909774 TrainLoss=0.004637 TestLoss=0.557951\n",
      "----------------------------\n",
      "Epoch:36\n",
      "Train logP=-3.265747 Test logP=-51.416486 Train Acc=0.999060 Test Acc=0.917293 TrainLoss=0.004428 TestLoss=0.557691\n",
      "----------------------------\n",
      "Epoch:37\n",
      "Train logP=-3.124181 Test logP=-51.401897 Train Acc=0.999060 Test Acc=0.917293 TrainLoss=0.004236 TestLoss=0.557532\n",
      "----------------------------\n",
      "Epoch:38\n",
      "Train logP=-2.993315 Test logP=-51.394631 Train Acc=0.999060 Test Acc=0.917293 TrainLoss=0.004059 TestLoss=0.557452\n",
      "----------------------------\n",
      "Epoch:39\n",
      "Train logP=-2.871630 Test logP=-51.392940 Train Acc=0.999060 Test Acc=0.917293 TrainLoss=0.003894 TestLoss=0.557433\n",
      "----------------------------\n",
      "Epoch:40\n",
      "Early Stop\n",
      "Train logP=-2.757970 Test logP=-51.395370 Train Acc=1.000000 Test Acc=0.917293 TrainLoss=0.003740 TestLoss=0.557458\n",
      "Figure(1000x400)\n"
     ]
    }
   ],
   "source": [
    "! python3 logreg.py --passes=2000  --step=0.08 --early_stop=1 --normalize=no \\\n",
    "    --log=no --log_step=200 --plot_name=all_features_no_normalization \\\n",
    "    --save_weights_path=weights/all_features_no_normalization"
   ]
  },
  {
   "cell_type": "markdown",
   "id": "bd52930e-bca4-492c-b77a-5fabc710f41d",
   "metadata": {},
   "source": [
    "![plot](figures/all_features_no_normalization.png)"
   ]
  },
  {
   "cell_type": "markdown",
   "id": "08f5eb9f-3d00-422e-88dc-ff79dbecca28",
   "metadata": {},
   "source": [
    "### Training All features with Noramlization"
   ]
  },
  {
   "cell_type": "code",
   "execution_count": 2,
   "id": "1795b41e-246a-4d2d-84e1-2cb89730a030",
   "metadata": {
    "tags": []
   },
   "outputs": [
    {
     "name": "stdout",
     "output_type": "stream",
     "text": [
      "Read in 1064 train and 133 test\n",
      "Epoch:1\n",
      "Train logP=-1420.191893 Test logP=-441.904951 Train Acc=0.899436 Test Acc=0.774436 TrainLoss=1.800750 TestLoss=4.513933\n",
      "----------------------------\n",
      "Epoch:2\n",
      "Train logP=-539.922492 Test logP=-310.605883 Train Acc=0.962406 Test Acc=0.819549 TrainLoss=0.688692 TestLoss=3.193685\n",
      "----------------------------\n",
      "Epoch:3\n",
      "Train logP=-147.861275 Test logP=-281.754546 Train Acc=0.987782 Test Acc=0.819549 TrainLoss=0.190379 TestLoss=2.901246\n",
      "----------------------------\n",
      "Epoch:4\n",
      "Train logP=-93.250791 Test logP=-272.909883 Train Acc=0.993421 Test Acc=0.834586 TrainLoss=0.117004 TestLoss=2.821451\n",
      "----------------------------\n",
      "Epoch:5\n",
      "Train logP=-58.002648 Test logP=-271.847600 Train Acc=0.995301 Test Acc=0.834586 TrainLoss=0.075882 TestLoss=2.791456\n",
      "----------------------------\n",
      "Epoch:6\n",
      "Train logP=-30.047144 Test logP=-273.210257 Train Acc=0.997180 Test Acc=0.842105 TrainLoss=0.039740 TestLoss=2.803731\n",
      "----------------------------\n",
      "Epoch:7\n",
      "Train logP=-0.667658 Test logP=-266.257080 Train Acc=1.000000 Test Acc=0.849624 TrainLoss=0.000905 TestLoss=2.742196\n",
      "----------------------------\n",
      "Epoch:8\n",
      "Train logP=-0.640799 Test logP=-257.417598 Train Acc=1.000000 Test Acc=0.857143 TrainLoss=0.000869 TestLoss=2.645063\n",
      "----------------------------\n",
      "Epoch:9\n",
      "Train logP=-0.039032 Test logP=-259.796024 Train Acc=1.000000 Test Acc=0.849624 TrainLoss=0.000053 TestLoss=2.671533\n",
      "----------------------------\n",
      "Epoch:10\n",
      "Train logP=-0.031804 Test logP=-259.479443 Train Acc=1.000000 Test Acc=0.849624 TrainLoss=0.000043 TestLoss=2.667849\n",
      "----------------------------\n",
      "Epoch:11\n",
      "Train logP=-0.027139 Test logP=-259.059154 Train Acc=1.000000 Test Acc=0.849624 TrainLoss=0.000037 TestLoss=2.663280\n",
      "----------------------------\n",
      "Epoch:12\n",
      "Train logP=-0.023789 Test logP=-258.646313 Train Acc=1.000000 Test Acc=0.849624 TrainLoss=0.000032 TestLoss=2.658847\n",
      "----------------------------\n",
      "Epoch:13\n",
      "Train logP=-0.021238 Test logP=-258.259339 Train Acc=1.000000 Test Acc=0.849624 TrainLoss=0.000029 TestLoss=2.654709\n",
      "----------------------------\n",
      "Epoch:14\n",
      "Train logP=-0.019215 Test logP=-257.899962 Train Acc=1.000000 Test Acc=0.849624 TrainLoss=0.000026 TestLoss=2.650872\n",
      "----------------------------\n",
      "Epoch:15\n",
      "Train logP=-0.017565 Test logP=-257.566231 Train Acc=1.000000 Test Acc=0.849624 TrainLoss=0.000024 TestLoss=2.647312\n",
      "----------------------------\n",
      "Epoch:16\n",
      "Train logP=-0.016186 Test logP=-257.255489 Train Acc=1.000000 Test Acc=0.849624 TrainLoss=0.000022 TestLoss=2.643997\n",
      "----------------------------\n",
      "Epoch:17\n",
      "Train logP=-0.015015 Test logP=-256.965151 Train Acc=1.000000 Test Acc=0.849624 TrainLoss=0.000020 TestLoss=2.640901\n",
      "----------------------------\n",
      "Epoch:18\n",
      "Train logP=-0.014006 Test logP=-256.692913 Train Acc=1.000000 Test Acc=0.849624 TrainLoss=0.000019 TestLoss=2.637997\n",
      "----------------------------\n",
      "Epoch:19\n",
      "Train logP=-0.013127 Test logP=-256.436774 Train Acc=1.000000 Test Acc=0.849624 TrainLoss=0.000018 TestLoss=2.635264\n",
      "----------------------------\n",
      "Epoch:20\n",
      "Train logP=-0.012353 Test logP=-256.195018 Train Acc=1.000000 Test Acc=0.849624 TrainLoss=0.000017 TestLoss=2.632685\n",
      "----------------------------\n",
      "Epoch:21\n",
      "Train logP=-0.011666 Test logP=-255.966173 Train Acc=1.000000 Test Acc=0.857143 TrainLoss=0.000016 TestLoss=2.630242\n",
      "----------------------------\n",
      "Epoch:22\n",
      "Train logP=-0.011052 Test logP=-255.748979 Train Acc=1.000000 Test Acc=0.857143 TrainLoss=0.000015 TestLoss=2.627924\n",
      "----------------------------\n",
      "Epoch:23\n",
      "Train logP=-0.010499 Test logP=-255.542346 Train Acc=1.000000 Test Acc=0.857143 TrainLoss=0.000014 TestLoss=2.625719\n",
      "----------------------------\n",
      "Epoch:24\n",
      "Train logP=-0.010000 Test logP=-255.345332 Train Acc=1.000000 Test Acc=0.857143 TrainLoss=0.000014 TestLoss=2.623615\n",
      "----------------------------\n",
      "Epoch:25\n",
      "Train logP=-0.009545 Test logP=-255.157117 Train Acc=1.000000 Test Acc=0.857143 TrainLoss=0.000013 TestLoss=2.621606\n",
      "----------------------------\n",
      "Epoch:26\n",
      "Train logP=-0.009130 Test logP=-254.976983 Train Acc=1.000000 Test Acc=0.857143 TrainLoss=0.000012 TestLoss=2.619682\n",
      "----------------------------\n",
      "Epoch:27\n",
      "Train logP=-0.008750 Test logP=-254.804298 Train Acc=1.000000 Test Acc=0.857143 TrainLoss=0.000012 TestLoss=2.617838\n",
      "----------------------------\n",
      "Epoch:28\n",
      "Train logP=-0.008400 Test logP=-254.638503 Train Acc=1.000000 Test Acc=0.857143 TrainLoss=0.000011 TestLoss=2.616067\n",
      "----------------------------\n",
      "Epoch:29\n",
      "Train logP=-0.008077 Test logP=-254.479101 Train Acc=1.000000 Test Acc=0.857143 TrainLoss=0.000011 TestLoss=2.614364\n",
      "----------------------------\n",
      "Epoch:30\n",
      "Train logP=-0.007777 Test logP=-254.325649 Train Acc=1.000000 Test Acc=0.857143 TrainLoss=0.000011 TestLoss=2.612725\n",
      "----------------------------\n",
      "Epoch:31\n",
      "Train logP=-0.007499 Test logP=-254.177748 Train Acc=1.000000 Test Acc=0.857143 TrainLoss=0.000010 TestLoss=2.611145\n",
      "----------------------------\n",
      "Epoch:32\n",
      "Train logP=-0.007240 Test logP=-254.035040 Train Acc=1.000000 Test Acc=0.857143 TrainLoss=0.000010 TestLoss=2.609620\n",
      "----------------------------\n",
      "Epoch:33\n",
      "Train logP=-0.006999 Test logP=-253.897200 Train Acc=1.000000 Test Acc=0.857143 TrainLoss=0.000009 TestLoss=2.608148\n",
      "----------------------------\n",
      "Epoch:34\n",
      "Train logP=-0.006772 Test logP=-253.763936 Train Acc=1.000000 Test Acc=0.857143 TrainLoss=0.000009 TestLoss=2.606724\n",
      "----------------------------\n",
      "Epoch:35\n",
      "Train logP=-0.006560 Test logP=-253.634978 Train Acc=1.000000 Test Acc=0.857143 TrainLoss=0.000009 TestLoss=2.605346\n",
      "----------------------------\n",
      "Epoch:36\n",
      "Train logP=-0.006361 Test logP=-253.510083 Train Acc=1.000000 Test Acc=0.857143 TrainLoss=0.000009 TestLoss=2.604011\n",
      "----------------------------\n",
      "Epoch:37\n",
      "Train logP=-0.006173 Test logP=-253.389027 Train Acc=1.000000 Test Acc=0.857143 TrainLoss=0.000008 TestLoss=2.602717\n",
      "----------------------------\n",
      "Epoch:38\n",
      "Train logP=-0.005996 Test logP=-253.271603 Train Acc=1.000000 Test Acc=0.857143 TrainLoss=0.000008 TestLoss=2.601462\n",
      "----------------------------\n",
      "Epoch:39\n",
      "Train logP=-0.005829 Test logP=-253.157624 Train Acc=1.000000 Test Acc=0.857143 TrainLoss=0.000008 TestLoss=2.600244\n",
      "----------------------------\n",
      "Epoch:40\n",
      "Train logP=-0.005671 Test logP=-253.046913 Train Acc=1.000000 Test Acc=0.857143 TrainLoss=0.000008 TestLoss=2.599060\n",
      "----------------------------\n",
      "Epoch:41\n",
      "Train logP=-0.005521 Test logP=-252.939311 Train Acc=1.000000 Test Acc=0.857143 TrainLoss=0.000007 TestLoss=2.597910\n",
      "----------------------------\n",
      "Epoch:42\n",
      "Train logP=-0.005379 Test logP=-252.834667 Train Acc=1.000000 Test Acc=0.857143 TrainLoss=0.000007 TestLoss=2.596791\n",
      "----------------------------\n",
      "Epoch:43\n",
      "Train logP=-0.005244 Test logP=-252.732843 Train Acc=1.000000 Test Acc=0.857143 TrainLoss=0.000007 TestLoss=2.595702\n",
      "----------------------------\n",
      "Epoch:44\n",
      "Train logP=-0.005116 Test logP=-252.633709 Train Acc=1.000000 Test Acc=0.857143 TrainLoss=0.000007 TestLoss=2.594642\n",
      "----------------------------\n",
      "Epoch:45\n",
      "Train logP=-0.004993 Test logP=-252.537146 Train Acc=1.000000 Test Acc=0.857143 TrainLoss=0.000007 TestLoss=2.593610\n",
      "----------------------------\n",
      "Epoch:46\n",
      "Train logP=-0.004877 Test logP=-252.443042 Train Acc=1.000000 Test Acc=0.857143 TrainLoss=0.000007 TestLoss=2.592603\n",
      "----------------------------\n",
      "Epoch:47\n",
      "Train logP=-0.004765 Test logP=-252.351291 Train Acc=1.000000 Test Acc=0.857143 TrainLoss=0.000006 TestLoss=2.591622\n",
      "----------------------------\n",
      "Epoch:48\n",
      "Train logP=-0.004659 Test logP=-252.261796 Train Acc=1.000000 Test Acc=0.857143 TrainLoss=0.000006 TestLoss=2.590665\n",
      "----------------------------\n",
      "Epoch:49\n",
      "Train logP=-0.004557 Test logP=-252.174466 Train Acc=1.000000 Test Acc=0.857143 TrainLoss=0.000006 TestLoss=2.589731\n",
      "----------------------------\n",
      "Epoch:50\n",
      "Train logP=-0.004460 Test logP=-252.089213 Train Acc=1.000000 Test Acc=0.857143 TrainLoss=0.000006 TestLoss=2.588819\n",
      "----------------------------\n",
      "Epoch:51\n",
      "Train logP=-0.004366 Test logP=-252.005959 Train Acc=1.000000 Test Acc=0.857143 TrainLoss=0.000006 TestLoss=2.587928\n",
      "----------------------------\n",
      "Epoch:52\n",
      "Train logP=-0.004277 Test logP=-251.924627 Train Acc=1.000000 Test Acc=0.857143 TrainLoss=0.000006 TestLoss=2.587058\n",
      "----------------------------\n",
      "Epoch:53\n",
      "Train logP=-0.004191 Test logP=-251.845145 Train Acc=1.000000 Test Acc=0.857143 TrainLoss=0.000006 TestLoss=2.586208\n",
      "----------------------------\n",
      "Epoch:54\n",
      "Train logP=-0.004108 Test logP=-251.767447 Train Acc=1.000000 Test Acc=0.857143 TrainLoss=0.000006 TestLoss=2.585377\n",
      "----------------------------\n",
      "Epoch:55\n",
      "Train logP=-0.004029 Test logP=-251.691470 Train Acc=1.000000 Test Acc=0.857143 TrainLoss=0.000005 TestLoss=2.584564\n",
      "----------------------------\n",
      "Epoch:56\n",
      "Train logP=-0.003952 Test logP=-251.617153 Train Acc=1.000000 Test Acc=0.857143 TrainLoss=0.000005 TestLoss=2.583769\n",
      "----------------------------\n",
      "Epoch:57\n",
      "Train logP=-0.003879 Test logP=-251.544441 Train Acc=1.000000 Test Acc=0.857143 TrainLoss=0.000005 TestLoss=2.582991\n",
      "----------------------------\n",
      "Epoch:58\n",
      "Train logP=-0.003808 Test logP=-251.473281 Train Acc=1.000000 Test Acc=0.857143 TrainLoss=0.000005 TestLoss=2.582229\n",
      "----------------------------\n",
      "Epoch:59\n",
      "Train logP=-0.003739 Test logP=-251.403622 Train Acc=1.000000 Test Acc=0.857143 TrainLoss=0.000005 TestLoss=2.581484\n",
      "----------------------------\n",
      "Epoch:60\n",
      "Train logP=-0.003673 Test logP=-251.335416 Train Acc=1.000000 Test Acc=0.857143 TrainLoss=0.000005 TestLoss=2.580754\n",
      "----------------------------\n",
      "Epoch:61\n",
      "Train logP=-0.003610 Test logP=-251.268619 Train Acc=1.000000 Test Acc=0.857143 TrainLoss=0.000005 TestLoss=2.580039\n",
      "----------------------------\n",
      "Epoch:62\n",
      "Train logP=-0.003548 Test logP=-251.203189 Train Acc=1.000000 Test Acc=0.857143 TrainLoss=0.000005 TestLoss=2.579339\n",
      "----------------------------\n",
      "Epoch:63\n",
      "Train logP=-0.003489 Test logP=-251.139084 Train Acc=1.000000 Test Acc=0.857143 TrainLoss=0.000005 TestLoss=2.578653\n",
      "----------------------------\n",
      "Epoch:64\n",
      "Train logP=-0.003431 Test logP=-251.076267 Train Acc=1.000000 Test Acc=0.857143 TrainLoss=0.000005 TestLoss=2.577980\n",
      "----------------------------\n",
      "Epoch:65\n",
      "Train logP=-0.003376 Test logP=-251.014700 Train Acc=1.000000 Test Acc=0.857143 TrainLoss=0.000005 TestLoss=2.577321\n",
      "----------------------------\n",
      "Epoch:66\n",
      "Train logP=-0.003322 Test logP=-250.954351 Train Acc=1.000000 Test Acc=0.857143 TrainLoss=0.000004 TestLoss=2.576675\n",
      "----------------------------\n",
      "Epoch:67\n",
      "Train logP=-0.003270 Test logP=-250.895185 Train Acc=1.000000 Test Acc=0.857143 TrainLoss=0.000004 TestLoss=2.576042\n",
      "----------------------------\n",
      "Epoch:68\n",
      "Train logP=-0.003219 Test logP=-250.837172 Train Acc=1.000000 Test Acc=0.857143 TrainLoss=0.000004 TestLoss=2.575421\n",
      "----------------------------\n",
      "Epoch:69\n",
      "Train logP=-0.003170 Test logP=-250.780281 Train Acc=1.000000 Test Acc=0.857143 TrainLoss=0.000004 TestLoss=2.574812\n",
      "----------------------------\n",
      "Epoch:70\n",
      "Train logP=-0.003123 Test logP=-250.724486 Train Acc=1.000000 Test Acc=0.857143 TrainLoss=0.000004 TestLoss=2.574215\n",
      "----------------------------\n",
      "Epoch:71\n",
      "Train logP=-0.003077 Test logP=-250.669758 Train Acc=1.000000 Test Acc=0.857143 TrainLoss=0.000004 TestLoss=2.573629\n",
      "----------------------------\n",
      "Epoch:72\n",
      "Train logP=-0.003032 Test logP=-250.616072 Train Acc=1.000000 Test Acc=0.857143 TrainLoss=0.000004 TestLoss=2.573054\n",
      "----------------------------\n",
      "Epoch:73\n",
      "Train logP=-0.002988 Test logP=-250.563403 Train Acc=1.000000 Test Acc=0.857143 TrainLoss=0.000004 TestLoss=2.572490\n",
      "----------------------------\n",
      "Epoch:74\n",
      "Train logP=-0.002946 Test logP=-250.511728 Train Acc=1.000000 Test Acc=0.857143 TrainLoss=0.000004 TestLoss=2.571937\n",
      "----------------------------\n",
      "Epoch:75\n",
      "Train logP=-0.002905 Test logP=-250.461026 Train Acc=1.000000 Test Acc=0.857143 TrainLoss=0.000004 TestLoss=2.571394\n",
      "----------------------------\n",
      "Epoch:76\n",
      "Train logP=-0.002865 Test logP=-250.411273 Train Acc=1.000000 Test Acc=0.857143 TrainLoss=0.000004 TestLoss=2.570861\n",
      "----------------------------\n",
      "Epoch:77\n",
      "Train logP=-0.002826 Test logP=-250.362450 Train Acc=1.000000 Test Acc=0.857143 TrainLoss=0.000004 TestLoss=2.570338\n",
      "----------------------------\n",
      "Epoch:78\n",
      "Train logP=-0.002788 Test logP=-250.314538 Train Acc=1.000000 Test Acc=0.857143 TrainLoss=0.000004 TestLoss=2.569825\n",
      "----------------------------\n",
      "Epoch:79\n",
      "Train logP=-0.002751 Test logP=-250.267517 Train Acc=1.000000 Test Acc=0.857143 TrainLoss=0.000004 TestLoss=2.569322\n",
      "----------------------------\n",
      "Epoch:80\n",
      "Train logP=-0.002716 Test logP=-250.221370 Train Acc=1.000000 Test Acc=0.857143 TrainLoss=0.000004 TestLoss=2.568828\n",
      "----------------------------\n",
      "Epoch:81\n",
      "Train logP=-0.002681 Test logP=-250.176079 Train Acc=1.000000 Test Acc=0.857143 TrainLoss=0.000004 TestLoss=2.568343\n",
      "----------------------------\n",
      "Epoch:82\n",
      "Train logP=-0.002647 Test logP=-250.131628 Train Acc=1.000000 Test Acc=0.857143 TrainLoss=0.000004 TestLoss=2.567867\n",
      "----------------------------\n",
      "Epoch:83\n",
      "Train logP=-0.002613 Test logP=-250.088000 Train Acc=1.000000 Test Acc=0.857143 TrainLoss=0.000004 TestLoss=2.567400\n",
      "----------------------------\n",
      "Epoch:84\n",
      "Train logP=-0.002581 Test logP=-250.045180 Train Acc=1.000000 Test Acc=0.857143 TrainLoss=0.000003 TestLoss=2.566941\n",
      "----------------------------\n",
      "Epoch:85\n",
      "Train logP=-0.002550 Test logP=-250.003154 Train Acc=1.000000 Test Acc=0.857143 TrainLoss=0.000003 TestLoss=2.566491\n",
      "----------------------------\n",
      "Epoch:86\n",
      "Train logP=-0.002519 Test logP=-249.961907 Train Acc=1.000000 Test Acc=0.857143 TrainLoss=0.000003 TestLoss=2.566049\n",
      "----------------------------\n",
      "Epoch:87\n",
      "Train logP=-0.002489 Test logP=-249.921425 Train Acc=1.000000 Test Acc=0.857143 TrainLoss=0.000003 TestLoss=2.565616\n",
      "----------------------------\n",
      "Epoch:88\n",
      "Train logP=-0.002459 Test logP=-249.881695 Train Acc=1.000000 Test Acc=0.857143 TrainLoss=0.000003 TestLoss=2.565190\n",
      "----------------------------\n",
      "Epoch:89\n",
      "Train logP=-0.002431 Test logP=-249.842704 Train Acc=1.000000 Test Acc=0.857143 TrainLoss=0.000003 TestLoss=2.564773\n",
      "----------------------------\n",
      "Epoch:90\n",
      "Train logP=-0.002403 Test logP=-249.804440 Train Acc=1.000000 Test Acc=0.857143 TrainLoss=0.000003 TestLoss=2.564363\n",
      "----------------------------\n",
      "Epoch:91\n",
      "Train logP=-0.002375 Test logP=-249.766890 Train Acc=1.000000 Test Acc=0.857143 TrainLoss=0.000003 TestLoss=2.563961\n",
      "----------------------------\n",
      "Epoch:92\n",
      "Train logP=-0.002349 Test logP=-249.730043 Train Acc=1.000000 Test Acc=0.857143 TrainLoss=0.000003 TestLoss=2.563566\n",
      "----------------------------\n",
      "Epoch:93\n",
      "Train logP=-0.002322 Test logP=-249.693887 Train Acc=1.000000 Test Acc=0.857143 TrainLoss=0.000003 TestLoss=2.563179\n",
      "----------------------------\n",
      "Epoch:94\n",
      "Train logP=-0.002297 Test logP=-249.658411 Train Acc=1.000000 Test Acc=0.857143 TrainLoss=0.000003 TestLoss=2.562799\n",
      "----------------------------\n",
      "Epoch:95\n",
      "Train logP=-0.002272 Test logP=-249.623604 Train Acc=1.000000 Test Acc=0.857143 TrainLoss=0.000003 TestLoss=2.562427\n",
      "----------------------------\n",
      "Epoch:96\n",
      "Train logP=-0.002248 Test logP=-249.589456 Train Acc=1.000000 Test Acc=0.857143 TrainLoss=0.000003 TestLoss=2.562061\n",
      "----------------------------\n",
      "Epoch:97\n",
      "Train logP=-0.002224 Test logP=-249.555956 Train Acc=1.000000 Test Acc=0.857143 TrainLoss=0.000003 TestLoss=2.561702\n",
      "----------------------------\n",
      "Epoch:98\n",
      "Train logP=-0.002200 Test logP=-249.523094 Train Acc=1.000000 Test Acc=0.857143 TrainLoss=0.000003 TestLoss=2.561350\n",
      "----------------------------\n",
      "Epoch:99\n",
      "Train logP=-0.002177 Test logP=-249.490861 Train Acc=1.000000 Test Acc=0.857143 TrainLoss=0.000003 TestLoss=2.561005\n",
      "----------------------------\n",
      "Epoch:100\n",
      "Train logP=-0.002155 Test logP=-249.459246 Train Acc=1.000000 Test Acc=0.857143 TrainLoss=0.000003 TestLoss=2.560667\n",
      "----------------------------\n",
      "Train logP=-0.002155 Test logP=-249.459246 Train Acc=1.000000 Test Acc=0.857143 TrainLoss=0.000003 TestLoss=2.560667\n",
      "Figure(1000x400)\n"
     ]
    }
   ],
   "source": [
    "! python3 logreg.py --passes=100  --step=0.08 --early_stop=3 --normalize=yes \\\n",
    "    --log=no --log_step=200 --plot_name=all_features_with_normalization"
   ]
  },
  {
   "cell_type": "markdown",
   "id": "2a7d4306-094d-4022-97bd-6438ef923a5b",
   "metadata": {},
   "source": [
    "![all_normalized](figures/all_features_with_normalization.png)"
   ]
  },
  {
   "cell_type": "markdown",
   "id": "cf74b8f0-cd6e-4884-b465-4087a682c6b0",
   "metadata": {},
   "source": [
    "## Traing selected features without normalization"
   ]
  },
  {
   "cell_type": "code",
   "execution_count": 3,
   "id": "888d5e74-fa5a-42c5-b205-16e373915c91",
   "metadata": {
    "tags": []
   },
   "outputs": [
    {
     "name": "stdout",
     "output_type": "stream",
     "text": [
      "Read in 1064 train and 133 test\n",
      "Epoch:1\n",
      "Train logP=-376.803548 Test logP=-33.523141 Train Acc=0.824248 Test Acc=0.894737 TrainLoss=0.510914 TestLoss=0.363637\n",
      "----------------------------\n",
      "Epoch:2\n",
      "Train logP=-290.504943 Test logP=-21.533256 Train Acc=0.870301 Test Acc=0.924812 TrainLoss=0.393900 TestLoss=0.233578\n",
      "----------------------------\n",
      "Epoch:3\n",
      "Train logP=-255.191170 Test logP=-17.482726 Train Acc=0.893797 Test Acc=0.932331 TrainLoss=0.346018 TestLoss=0.189641\n",
      "----------------------------\n",
      "Epoch:4\n",
      "Train logP=-236.524933 Test logP=-15.759704 Train Acc=0.903195 Test Acc=0.939850 TrainLoss=0.320708 TestLoss=0.170951\n",
      "----------------------------\n",
      "Epoch:5\n",
      "Train logP=-224.787657 Test logP=-14.919939 Train Acc=0.909774 Test Acc=0.939850 TrainLoss=0.304793 TestLoss=0.161842\n",
      "----------------------------\n",
      "Epoch:6\n",
      "Train logP=-216.936924 Test logP=-14.518586 Train Acc=0.911654 Test Acc=0.947368 TrainLoss=0.294148 TestLoss=0.157488\n",
      "----------------------------\n",
      "Epoch:7\n",
      "Train logP=-211.158322 Test logP=-14.323780 Train Acc=0.912594 Test Acc=0.939850 TrainLoss=0.286313 TestLoss=0.155375\n",
      "----------------------------\n",
      "Epoch:8\n",
      "Train logP=-206.532488 Test logP=-14.219030 Train Acc=0.912594 Test Acc=0.939850 TrainLoss=0.280041 TestLoss=0.154239\n",
      "----------------------------\n",
      "Epoch:9\n",
      "Train logP=-202.668893 Test logP=-14.153692 Train Acc=0.915414 Test Acc=0.939850 TrainLoss=0.274802 TestLoss=0.153530\n",
      "----------------------------\n",
      "Epoch:10\n",
      "Train logP=-199.392291 Test logP=-14.112696 Train Acc=0.917293 Test Acc=0.939850 TrainLoss=0.270359 TestLoss=0.153085\n",
      "----------------------------\n",
      "Epoch:11\n",
      "Train logP=-196.597720 Test logP=-14.092754 Train Acc=0.918233 Test Acc=0.939850 TrainLoss=0.266570 TestLoss=0.152869\n",
      "----------------------------\n",
      "Epoch:12\n",
      "Train logP=-194.200616 Test logP=-14.090976 Train Acc=0.921053 Test Acc=0.947368 TrainLoss=0.263320 TestLoss=0.152849\n",
      "----------------------------\n",
      "Epoch:13\n",
      "Early Stop\n",
      "Train logP=-192.130880 Test logP=-14.103659 Train Acc=0.921992 Test Acc=0.947368 TrainLoss=0.260513 TestLoss=0.152987\n",
      "Figure(1000x400)\n"
     ]
    }
   ],
   "source": [
    "! python3 logreg.py --passes=200  --step=.08 --early_stop=1 --normalize=no \\\n",
    "    --log=no --log_step=50 --plot_name=selected_features_no_normalization \\\n",
    "    --save_weights_path='weights/selected_features_no_normalization' \\\n",
    "    --chosen_positive_indcies='data/chosen_p_indcies.npy' --chosen_negative_indcies='data/chosen_n_indcies.npy'"
   ]
  },
  {
   "cell_type": "markdown",
   "id": "42e58cd8-945a-4bd7-b7d8-8eb2d61e5fee",
   "metadata": {},
   "source": [
    "![selected_no_normalization](figures/selected_features_no_normalization.png)"
   ]
  },
  {
   "cell_type": "markdown",
   "id": "b0638cbc-3da5-4d6d-a101-4a99cd6e82ad",
   "metadata": {},
   "source": [
    "## Trainign Selected Features with normalization"
   ]
  },
  {
   "cell_type": "code",
   "execution_count": 4,
   "id": "456b1814-b331-4359-a504-da6b4458c3ed",
   "metadata": {
    "tags": []
   },
   "outputs": [
    {
     "name": "stdout",
     "output_type": "stream",
     "text": [
      "Read in 1064 train and 133 test\n",
      "Epoch:1\n",
      "    Update 1\tTP -4868.335080\tHP -467.869872\tTA 0.471805\tHA 0.533835\n",
      "    Update 201\tTP -1381.331320\tHP -129.813547\tTA 0.767857\tHA 0.812030\n",
      "    Update 401\tTP -791.024044\tHP -59.193294\tTA 0.828947\tHA 0.909774\n",
      "    Update 601\tTP -385.155447\tHP -19.255807\tTA 0.880639\tHA 0.954887\n",
      "    Update 801\tTP -265.245576\tHP -15.788990\tTA 0.906015\tHA 0.947368\n",
      "    Update 1001\tTP -242.604030\tHP -13.608165\tTA 0.910714\tHA 0.954887\n",
      "Train logP=-242.604030 Test logP=-13.608165 Train Acc=0.910714 Test Acc=0.954887 TrainLoss=0.327237 TestLoss=0.147612\n",
      "----------------------------\n",
      "Epoch:2\n",
      "    Update 1\tTP -224.693351\tHP -14.389476\tTA 0.914474\tHA 0.962406\n",
      "    Update 201\tTP -228.161541\tHP -12.853893\tTA 0.911654\tHA 0.954887\n",
      "    Update 401\tTP -221.368567\tHP -15.196707\tTA 0.913534\tHA 0.962406\n",
      "    Update 601\tTP -195.800804\tHP -12.198843\tTA 0.916353\tHA 0.969925\n",
      "    Update 801\tTP -178.368708\tHP -12.117319\tTA 0.919173\tHA 0.969925\n",
      "    Update 1001\tTP -195.460572\tHP -13.803910\tTA 0.917293\tHA 0.962406\n",
      "Early Stop\n",
      "Train logP=-195.460572 Test logP=-13.803910 Train Acc=0.917293 Test Acc=0.962406 TrainLoss=0.265028 TestLoss=0.149736\n",
      "Figure(1000x400)\n"
     ]
    }
   ],
   "source": [
    "! python3 logreg.py --passes=200  --step=.08 --early_stop=1 --normalize=yes \\\n",
    "    --log=yes --log_step=200 --plot_name='selected_features_with_normalization' \\\n",
    "    --save_weights_path='weights/selected_features_with_normalization' \\\n",
    "    --chosen_positive_indcies='data/chosen_p_indcies.npy' --chosen_negative_indcies='data/chosen_n_indcies.npy'"
   ]
  },
  {
   "cell_type": "markdown",
   "id": "288a0ac7-f352-4b41-ac65-718cfe30fe9f",
   "metadata": {},
   "source": [
    "![slected with normalization](figures/selected_features_with_normalization.png)"
   ]
  },
  {
   "cell_type": "markdown",
   "id": "cac82e47-aad2-47f6-8f1c-b0f8dbc4f985",
   "metadata": {},
   "source": [
    "# Analyzing uingram Features of: logstic regression"
   ]
  },
  {
   "cell_type": "code",
   "execution_count": 5,
   "id": "f6ccde49-bd90-4c04-a2b2-05bfc6a7b7b7",
   "metadata": {
    "tags": []
   },
   "outputs": [],
   "source": [
    "import numpy as np\n",
    "import matplotlib.pyplot as plt\n",
    "from logreg import ExamplesDataset, sigmoid"
   ]
  },
  {
   "cell_type": "code",
   "execution_count": 6,
   "id": "b07e3e4c-328f-4a4f-9823-36d4f2fac687",
   "metadata": {
    "tags": []
   },
   "outputs": [
    {
     "data": {
      "text/plain": [
       "(array([  1.,   0.,   0.,   1.,   0.,   1.,   1.,   1.,   0.,   0.,   0.,\n",
       "          2.,   4.,  10.,  16.,  17.,  17.,  55.,  54., 105., 149., 175.,\n",
       "        248., 297., 359., 375., 424., 436., 404., 375., 341., 316., 249.,\n",
       "        202., 168., 117.,  82.,  58.,  29.,  25.,  11.,   5.,   4.,   2.,\n",
       "          0.,   0.,   0.,   0.,   0.,   1.]),\n",
       " array([-5.90130406, -5.68775304, -5.47420203, -5.26065101, -5.0471    ,\n",
       "        -4.83354899, -4.61999797, -4.40644696, -4.19289594, -3.97934493,\n",
       "        -3.76579392, -3.5522429 , -3.33869189, -3.12514088, -2.91158986,\n",
       "        -2.69803885, -2.48448783, -2.27093682, -2.05738581, -1.84383479,\n",
       "        -1.63028378, -1.41673276, -1.20318175, -0.98963074, -0.77607972,\n",
       "        -0.56252871, -0.34897769, -0.13542668,  0.07812433,  0.29167535,\n",
       "         0.50522636,  0.71877737,  0.93232839,  1.1458794 ,  1.35943042,\n",
       "         1.57298143,  1.78653244,  2.00008346,  2.21363447,  2.42718549,\n",
       "         2.6407365 ,  2.85428751,  3.06783853,  3.28138954,  3.49494056,\n",
       "         3.70849157,  3.92204258,  4.1355936 ,  4.34914461,  4.56269562,\n",
       "         4.77624664]),\n",
       " <BarContainer object of 50 artists>)"
      ]
     },
     "execution_count": 6,
     "metadata": {},
     "output_type": "execute_result"
    },
    {
     "data": {
      "image/png": "[encoded data removed]",
      "text/plain": [
       "<Figure size 640x480 with 1 Axes>"
      ]
     },
     "metadata": {},
     "output_type": "display_data"
    }
   ],
   "source": [
    "# playing with weights\n",
    "# index0-> bias\n",
    "weights = np.load('weights/all_features_no_normalization.npy')\n",
    "plt.hist(weights, bins=50)"
   ]
  },
  {
   "cell_type": "code",
   "execution_count": 7,
   "id": "395028b5-1c88-4ff9-af48-9de0b6ceb298",
   "metadata": {
    "tags": []
   },
   "outputs": [],
   "source": [
    "'''Reading dataset'''\n",
    "dataset = ExamplesDataset('data/positive', 'data/negative', 'data/vocab')\n",
    "positive, negative, vocab = dataset.get_positive_negative_examples()"
   ]
  },
  {
   "cell_type": "code",
   "execution_count": 8,
   "id": "f60478f3-d61e-4c55-89fa-a17997ecbca0",
   "metadata": {
    "tags": []
   },
   "outputs": [
    {
     "name": "stdout",
     "output_type": "stream",
     "text": [
      "original shape:  (5137,)\n",
      "filter shape (8,)\n"
     ]
    },
    {
     "data": {
      "text/plain": [
       "array(['BIAS_CONSTANT', 'hockey', 'next', 'runs', 'playoffs', 'finals',\n",
       "       'biggest', 'pts'], dtype='<U17')"
      ]
     },
     "execution_count": 8,
     "metadata": {},
     "output_type": "execute_result"
    }
   ],
   "source": [
    "vocab_arr = np.array(vocab)\n",
    "w = 3.5\n",
    "print('original shape: ', vocab_arr.shape)\n",
    "f = (weights<-w) | ( weights>w)\n",
    "f[0] = True\n",
    "print('filter shape', f[f==True].shape)\n",
    "vocab_arr[f]"
   ]
  },
  {
   "cell_type": "code",
   "execution_count": 9,
   "id": "53a60c7e-fdcf-4566-aa01-4a8c02562542",
   "metadata": {},
   "outputs": [
    {
     "name": "stdout",
     "output_type": "stream",
     "text": [
      "Limit= 0.013825460636515907\n",
      "filter shape:  (325,)\n"
     ]
    },
    {
     "data": {
      "text/plain": [
       "' positve words'"
      ]
     },
     "execution_count": 9,
     "metadata": {},
     "output_type": "execute_result"
    },
    {
     "data": {
      "image/png": "[encoded data removed]",
      "text/plain": [
       "<Figure size 640x480 with 1 Axes>"
      ]
     },
     "metadata": {},
     "output_type": "display_data"
    }
   ],
   "source": [
    "def most_important_features(positive ,negative ,vocab, threshold=1):\n",
    "    \"\"\"\n",
    "    :param data: list of Example objects\n",
    "    :param vocab list of words\n",
    "    :param threshold: the number at which we neglegt redudant features\n",
    "    :return: (pos_freq, neg_freq, words)\n",
    "    \"\"\"\n",
    "    # converting to numpy\n",
    "    \n",
    "    pos_arr = np.empty(shape=(len(positive), len(vocab)))\n",
    "    for i in range(len(positive)):\n",
    "        pos_arr[i] = positive[i].x\n",
    "        \n",
    "    neg_arr = np.empty(shape=(len(negative), len(vocab)))\n",
    "    for i in range(len(negative)):\n",
    "        neg_arr[i] = negative[i].x\n",
    "        \n",
    "    vocab_arr = np.array(vocab)\n",
    "    \n",
    "    return pos_arr, neg_arr, vocab_arr\n",
    "\n",
    "pos, neg, v_arr = most_important_features(positive, negative, vocab)\n",
    "\n",
    "# # playing \n",
    "# small = 1e-9\n",
    "# p_m = np.mean(pos, axis=0) + small\n",
    "# n_m = np.mean(neg, axis=0) + small\n",
    "\n",
    "# out = p_m /n_m\n",
    "# f = (out > 2.4e7) \n",
    "# print('filter shape: ', f[f==True].shape)\n",
    "# print(vocab_arr[f])\n",
    "# print(p_m[v_arr=='baseball'])\n",
    "# print(n_m[v_arr=='baseball'])\n",
    "# print(out[v_arr=='baseball'])\n",
    "# plt.hist(out, bins=50)\n",
    "\n",
    "\n",
    "# playing \n",
    "small = 0.0\n",
    "p_m = np.mean(pos, axis=0) + small\n",
    "n_m = np.mean(neg, axis=0) + small\n",
    "\n",
    "out = p_m - n_m\n",
    "\n",
    "\n",
    "counts, bins = np.histogram(out, bins=100)\n",
    "limit = bins[np.argmax(counts)+2]\n",
    "print('Limit=',limit)\n",
    "\n",
    "f = (out > limit) \n",
    "f_shape = f[f==True].shape\n",
    "print('filter shape: ', f[f==True].shape)\n",
    "# print(vocab_arr[f])\n",
    "\n",
    "plt.stairs(counts, bins)\n",
    "\n",
    "\n",
    "''' positve words'''\n",
    "# # Sortting words\n",
    "# indcies = np.argsort(out)[-f_shape[0]:]\n",
    "# chosen_indcies = []\n",
    "# for i in indcies[::-1]:\n",
    "#     print(vocab_arr[i])\n",
    "#     o = input()\n",
    "#     if o == 'y':\n",
    "#         chosen_indcies.append(i)\n",
    "    \n",
    "# np.save('data/chosen_p_indcies', np.array(chosen_indcies)\n"
   ]
  },
  {
   "cell_type": "code",
   "execution_count": 20,
   "id": "783019e5-9df5-4cdf-9ea9-700cdf03428f",
   "metadata": {
    "tags": []
   },
   "outputs": [
    {
     "name": "stdout",
     "output_type": "stream",
     "text": [
      "['baseball' 'hit' 'pitching' 'hitter' 'pitcher' 'hitting' 'pitch' 'base'\n",
      " 'pitchers' 'innings' 'bat' 'hits' 'pitched' 'batting' 'inning' 'field'\n",
      " 'cubs' 'catcher' 'tedward' 'offense' 'majors' 'mss' 'rotation' 'bases'\n",
      " 'bullpen' 'starters' 'swing' 'roger' 'rickert' 'runner' 'fielding'\n",
      " 'pinch' 'plate' 'homers' 'hitters' 'catchers' 'runners' 'fls' 'caught'\n",
      " 'relief' 'homer' 'strike' 'starter' 'scott' 'bob' 'stadium' 'pennant'\n",
      " 'catch' 'infield' 'platoon' 'stance' 'erics' 'gotten' 'edge' 'threw'\n",
      " 'demers' 'peak' 'luriem' 'fierkelab' 'vesterman' 'fielder' 'hung'\n",
      " 'admiral' 'sepinwal' 'philly' 'mjones' 'minors' 'lineup' 'pm' 'closer'\n",
      " 'batter' 'fly' 'pace' 'bats' 'nimaster' 'baseman' 'lankford' 'shortstops'\n",
      " 'outfield' 'rushed' 'prime' 'humor' 'balls' 'baserunning' 'kirsch'\n",
      " 'gspira' 'jtchern' 'cmk' 'shortstop' 'racking' 'batters' 'snichols'\n",
      " 'leagues' 'clutch' 'lame' 'jay' 'pitches' 'gajarsky' 'ted' 'rogoff'\n",
      " 'jrogoff' 'defensively' 'glove' 'liked' 'opener' 'waivers' 'davewood'\n",
      " 'rp' 'umpires' 'paula' 'uucp' 'traven' 'niguma']\n",
      "(113,)\n"
     ]
    }
   ],
   "source": [
    "chosen_p_indcies = np.load('data/chosen_p_indcies.npy')\n",
    "print(vocab_arr[chosen_p_indcies])\n",
    "print(chosen_p_indcies.shape)"
   ]
  },
  {
   "cell_type": "code",
   "execution_count": 11,
   "id": "cdf237ae-f297-4fc7-8b62-626d3517e807",
   "metadata": {
    "tags": []
   },
   "outputs": [
    {
     "name": "stdout",
     "output_type": "stream",
     "text": [
      "Limit= -0.024242211055276353\n",
      "filter shape:  (235,)\n"
     ]
    },
    {
     "data": {
      "text/plain": [
       "' negative words'"
      ]
     },
     "execution_count": 11,
     "metadata": {},
     "output_type": "execute_result"
    }
   ],
   "source": [
    "# negative class\n",
    "\n",
    "limit = bins[np.argmax(counts)-2]\n",
    "print('Limit=',limit)\n",
    "f = (out < limit) \n",
    "f_shape = f[f==True].shape\n",
    "print('filter shape: ', f[f==True].shape)\n",
    "\n",
    "''' negative words'''\n",
    "\n",
    "# # Sortting words\n",
    "# indcies = np.argsort(out)[:f_shape[0]]\n",
    "# print(vocab_arr[indcies])\n",
    "# chosen_indcies = []\n",
    "# for i in indcies:\n",
    "#     print(vocab_arr[i])\n",
    "#     o = input()\n",
    "#     if o == 'y':\n",
    "#         chosen_indcies.append(i)\n",
    "    \n",
    "# np.save('data/chosen_n_indcies', np.array(chosen_indcies))"
   ]
  },
  {
   "cell_type": "code",
   "execution_count": 21,
   "id": "21457855-9a8c-44b9-a789-9989d44b1633",
   "metadata": {
    "tags": []
   },
   "outputs": [
    {
     "name": "stdout",
     "output_type": "stream",
     "text": [
      "['hockey' 'period' 'goal' 'points' 'playoffs' 'puck' 'pp' 'goals' 'ice'\n",
      " 'players' 'pts' 'playoff' 'gld' 'player' 'coach' 'penalty' 'round'\n",
      " 'draft' 'captain' 'pick' 'net' 'scoring' 'shot' 'goalie' 'shots'\n",
      " 'defenseman' 'series' 'tie' 'maynard' 'golchowy' 'penalties' 'line'\n",
      " 'mask' 'franchise' 'zone' 'gballent' 'dchhabra' 'kkeller' 'arena' 'ca'\n",
      " 'breaker' 'forwards' 'stat' 'point' 'roughing' 'sh' 'goaltender' 'slot'\n",
      " 'pool' 'forward' 'standings' 'etxonss' 'wing' 'unassisted' 'defensemen'\n",
      " 'goalies' 'conference' 'rm' 'passed' 'stick' 'farenebt' 'assists'\n",
      " 'instead' 'circle' 'match' 'club' 'nne' 'boards' 'cordially' 'tough'\n",
      " 'hell' 'hammerl' 'octopus' 'rebound' 'howl' 'goaltending' 'gargle'\n",
      " 'defensive' 'souviens' 'poll' 'fmsalvat' 'rauser' 'stop' 'ref' 'pluggers'\n",
      " 'willis' 'rights']\n",
      "(87,)\n"
     ]
    }
   ],
   "source": [
    "chosen_n_indcies = np.load('data/chosen_n_indcies.npy')\n",
    "print(vocab_arr[chosen_n_indcies])\n",
    "print(chosen_n_indcies.shape)"
   ]
  },
  {
   "cell_type": "markdown",
   "id": "abbaa36b-9bd5-4902-8661-1e68f2286a54",
   "metadata": {},
   "source": [
    "## What words are good predictor of chosen words?"
   ]
  },
  {
   "cell_type": "code",
   "execution_count": 13,
   "id": "c2a51d06-6b32-461d-8fea-e31fba11efe9",
   "metadata": {
    "tags": []
   },
   "outputs": [
    {
     "name": "stdout",
     "output_type": "stream",
     "text": [
      "0.9528861025854305\n",
      "0.9288154073372098\n",
      "0.9494211882807919\n",
      "0.003896945563074537\n",
      "0.8540851151032064\n"
     ]
    }
   ],
   "source": [
    "def get_selected_prediction(word, val, vocab_arr, chosen_words_indcies, weights):\n",
    "    word_index = np.where(vocab_arr == word)[0]\n",
    "    new_index = np.where(chosen_words_indcies ==word_index)[0]\n",
    "    assert len(new_index)!=0, f'\"{word}\" is not in chosen words'\n",
    "    input_vector = np.zeros_like(chosen_words_indcies)\n",
    "    input_vector[new_index] = val\n",
    "    input_vector[0] = 1\n",
    "    \n",
    "    out = sigmoid(np.dot(input_vector, weights))\n",
    "    return out\n",
    "\n",
    "chosen_p_indcies = np.load('data/chosen_p_indcies.npy')\n",
    "chosen_n_indcies = np.load('data/chosen_n_indcies.npy')\n",
    "chosen_words_indcies = np.zeros(len(chosen_p_indcies) + len(chosen_n_indcies) +1, dtype=np.int32)\n",
    "chosen_words_indcies[1:len(chosen_p_indcies) +1] = chosen_p_indcies\n",
    "chosen_words_indcies[len(chosen_p_indcies) +1:] = chosen_n_indcies\n",
    "chosen_words_indcies.sort()\n",
    "chosen_words_indcies[0] = 0 # to chose bias\n",
    "# print(chosen_words_indcies)\n",
    "\n",
    "weights = np.load('weights/selected_features_no_normalization.npy')\n",
    "\n",
    "print(get_selected_prediction('baseball', 1, vocab_arr, chosen_words_indcies, weights))\n",
    "print(get_selected_prediction('bases', 1, vocab_arr, chosen_words_indcies, weights))\n",
    "print(get_selected_prediction('hit', 1, vocab_arr, chosen_words_indcies, weights))\n",
    "print(get_selected_prediction('hockey', 1, vocab_arr, chosen_words_indcies, weights))\n",
    "# print(get_selected_prediction('think', 1, vocab_arr, chosen_words_indcies, weights))\n",
    "print(get_selected_prediction('BIAS_CONSTANT', 1, vocab_arr, chosen_words_indcies, weights))\n",
    "# print(get_selected_prediction('liked', 1, vocab_arr, chosen_words_indcies, weights))"
   ]
  },
  {
   "cell_type": "code",
   "execution_count": 14,
   "id": "b729eaaa-1e11-42bd-8a45-1e9dfe22ffda",
   "metadata": {
    "tags": []
   },
   "outputs": [
    {
     "name": "stdout",
     "output_type": "stream",
     "text": [
      "There is a bias towards p\n",
      "0.8540851151032064\n"
     ]
    }
   ],
   "source": [
    "print('There is a bias towards p')\n",
    "print(get_selected_prediction('BIAS_CONSTANT', 1, vocab_arr, chosen_words_indcies, weights))"
   ]
  },
  {
   "cell_type": "code",
   "execution_count": 15,
   "id": "640d7810-ac87-41d9-b181-b840ab07b434",
   "metadata": {
    "tags": []
   },
   "outputs": [
    {
     "name": "stdout",
     "output_type": "stream",
     "text": [
      "[1 5 3 2]\n"
     ]
    }
   ],
   "source": [
    "def sort_with_keys(key_arr, val_arr):\n",
    "    '''\n",
    "    sort a val_arr using kesy_arr from ascendingly\n",
    "    :param key_arr: numpy array with keys\n",
    "    :param val_arr: numpy array to be sorted\n",
    "    :return: sorted numpy array  of val_arr\n",
    "    '''\n",
    "    index = np.lexsort((val_arr, key_arr))\n",
    "    return val_arr[index]\n",
    "out=sort_with_keys(np.array([0, 1, 2, 4]), np.array([1, 5, 3, 2]))\n",
    "print(out)"
   ]
  },
  {
   "cell_type": "code",
   "execution_count": 16,
   "id": "8d51d3f6-41c7-4e9a-85be-7b85d23fb047",
   "metadata": {},
   "outputs": [
    {
     "name": "stdout",
     "output_type": "stream",
     "text": [
      "['pitching' 'inning' 'pitcher' 'pitched' 'luriem' 'stadium' 'assists'\n",
      " 'batting' 'tedward' 'hitters' 'minors' 'bob' 'pitchers' 'rotation' 'club'\n",
      " 'baseman' 'field' 'bat' 'lame' 'glove' 'ted' 'edge' 'bullpen' 'rushed'\n",
      " 'cubs' 'sepinwal' 'majors' 'kirsch' 'strike' 'balls' 'homers' 'fielding'\n",
      " 'fierkelab' 'homer' 'jay' 'rogoff' 'innings' 'catcher' 'erics' 'mss'\n",
      " 'jtchern' 'waivers' 'philly' 'paula' 'pitch' 'leagues' 'prime' 'baseball'\n",
      " 'bats' 'scott' 'rickert' 'pitches' 'hitter' 'base' 'hit' 'roger' 'uucp'\n",
      " 'batters' 'stance' 'stick' 'shortstops' 'outfield' 'starters' 'defensive'\n",
      " 'scoring' 'demers' 'slot' 'mjones' 'pennant' 'rp' 'closer' 'infield'\n",
      " 'catch' 'bases' 'cordially' 'opener' 'hung' 'runner' 'lineup' 'fls' 'cmk'\n",
      " 'runners' 'vesterman' 'batter' 'caught' 'point' 'pm' 'lankford' 'gspira'\n",
      " 'hits' 'pinch' 'clutch' 'boards' 'admiral' 'offense' 'platoon'\n",
      " 'shortstop' 'peak' 'niguma' 'hitting' 'davewood' 'fielder' 'swing'\n",
      " 'threw' 'nimaster' 'traven' 'racking' 'gotten' 'relief' 'humor' 'shot'\n",
      " 'jrogoff' 'draft' 'starter' 'BIAS_CONSTANT' 'pp' 'breaker' 'ref'\n",
      " 'gajarsky' 'baserunning' 'defensemen' 'umpires' 'players' 'series'\n",
      " 'catchers' 'net' 'fly' 'pace' 'rauser' 'snichols' 'arena' 'plate' 'line'\n",
      " 'sh' 'defensively' 'souviens' 'instead' 'rebound' 'liked' 'rm' 'player'\n",
      " 'goaltender' 'stat' 'hell' 'goalies' 'forward' 'gargle' 'ca' 'unassisted'\n",
      " 'passed' 'rights' 'pluggers' 'goaltending' 'circle' 'gballent' 'points'\n",
      " 'tough' 'shots' 'pool' 'conference' 'howl' 'gld' 'octopus' 'fmsalvat'\n",
      " 'defenseman']\n",
      "(165,)\n",
      "\n",
      "['pts' 'hockey' 'golchowy' 'playoffs' 'playoff' 'coach' 'goals' 'goal'\n",
      " 'ice' 'stop' 'round' 'puck' 'forwards' 'willis' 'poll' 'hammerl' 'goalie'\n",
      " 'penalty' 'captain' 'period' 'franchise' 'tie' 'match' 'dchhabra' 'nne'\n",
      " 'farenebt' 'penalties' 'pick' 'maynard' 'kkeller' 'standings' 'mask'\n",
      " 'roughing' 'etxonss' 'wing' 'zone']\n",
      "(36,)\n"
     ]
    }
   ],
   "source": [
    "def get_selected_prediction_arr(val, vocab_arr, chosen_words_indcies, weights):\n",
    "    # we iclude bias as a seprate input\n",
    "    input_vector = np.diag(val * np.ones(len(chosen_words_indcies)))\n",
    "    input_vector[:, 0] = 1\n",
    "    \n",
    "    out = np.matmul(input_vector, weights.reshape([-1, 1]))\n",
    "    \n",
    "    #sigmoid\n",
    "    out = np.exp(out)\n",
    "    out = out/(1+out)\n",
    "    \n",
    "    #Sorting words\n",
    "    p_words_indcies = np.where(out>=0.5)[0]\n",
    "    p_vocab_indcies = sort_with_keys(out[p_words_indcies].reshape(-1), chosen_words_indcies[p_words_indcies])[::-1]\n",
    "    \n",
    "    n_words_indcies = np.where(out<0.5)[0]\n",
    "    n_vocab_indcies = sort_with_keys(out[n_words_indcies].reshape(-1), chosen_words_indcies[n_words_indcies])\n",
    "    return p_vocab_indcies, n_vocab_indcies\n",
    "\n",
    "p_vocab_indcies, n_vocab_indcies = get_selected_prediction_arr(1, vocab_arr, chosen_words_indcies, weights)\n",
    "\n",
    "print(vocab_arr[p_vocab_indcies])\n",
    "print(vocab_arr[p_vocab_indcies].shape)\n",
    "print()\n",
    "print(vocab_arr[n_vocab_indcies])\n",
    "print(vocab_arr[n_vocab_indcies].shape)"
   ]
  },
  {
   "cell_type": "markdown",
   "id": "f366aaed-148f-4069-b5e1-3d7b411ae74b",
   "metadata": {},
   "source": [
    "## Analysing words are good predictor from all words (no selection)"
   ]
  },
  {
   "cell_type": "code",
   "execution_count": 17,
   "id": "62eca5b4-3871-4374-8c14-b2964c2ce7d9",
   "metadata": {
    "tags": []
   },
   "outputs": [
    {
     "name": "stdout",
     "output_type": "stream",
     "text": [
      "0.9890365588519922\n",
      "0.8876874058118711\n",
      "0.9802580969303366\n",
      "0.012482282385483602\n",
      "0.8220677345416729\n"
     ]
    }
   ],
   "source": [
    "all_words_indcies = np.arange(len(vocab_arr))\n",
    "weights = np.load('weights/all_features_no_normalization.npy')\n",
    "\n",
    "print(get_selected_prediction('baseball', 1, vocab_arr, all_words_indcies, weights))\n",
    "print(get_selected_prediction('bases', 1, vocab_arr, all_words_indcies, weights))\n",
    "print(get_selected_prediction('hit', 1, vocab_arr, all_words_indcies, weights))\n",
    "print(get_selected_prediction('hockey', 1, vocab_arr, all_words_indcies, weights))\n",
    "# print(get_selected_prediction('think', 1, vocab_arr, all_words_indcies, weights))\n",
    "print(get_selected_prediction('BIAS_CONSTANT', 1, vocab_arr, all_words_indcies, weights))\n",
    "# print(get_selected_prediction('liked', 1, vocab_arr, all_words_indcies, weights))"
   ]
  },
  {
   "cell_type": "code",
   "execution_count": 18,
   "id": "ec65a56d-629d-42a4-8421-2092e41d5363",
   "metadata": {
    "tags": []
   },
   "outputs": [
    {
     "name": "stdout",
     "output_type": "stream",
     "text": [
      "There is a bias towards p\n",
      "0.8220677345416729\n"
     ]
    }
   ],
   "source": [
    "print('There is a bias towards p')\n",
    "print(get_selected_prediction('BIAS_CONSTANT', 1, vocab_arr, all_words_indcies, weights))"
   ]
  },
  {
   "cell_type": "code",
   "execution_count": 19,
   "id": "ec736927-e101-475c-b46e-e0d977115e74",
   "metadata": {},
   "outputs": [
    {
     "name": "stdout",
     "output_type": "stream",
     "text": [
      "['runs' 'justification' 'coveted' 'band' 'nicely' 'info' 'irony' 'girls'\n",
      " 'listing' 'baseball' 'sepinwal' 'steven' 'traditional' 'valued' 'central'\n",
      " 'books' 'thats' 'basically' 'liking' 'nuts' 'interpreted' 'infamous'\n",
      " 'staion' 'evaluating' 'chip' 'settled' 'mitt' 'educate' 'likely' 'skate'\n",
      " 'deny' 'prime' 'camelot' 'helping' 'pitches' 'minimum' 'expired' 'gotten'\n",
      " 'anyone' 'performed' 'starter' 'staff' 'gem' 'subsidiary' 'pitch'\n",
      " 'equivalent' 'chuck' 'remember' 'rogoff' 'water' 'fist' 'backhanded'\n",
      " 'exceed' 'pour' 'rating' 'ignorance' 'hit' 'bar' 'delay' 'fry' 'logos'\n",
      " 'inception' 'resting' 'copy']\n",
      "(4785,)\n",
      "\n",
      "['hockey' 'pts' 'playoffs' 'next' 'biggest' 'finals' 'need' 'mmb'\n",
      " 'annoying' 'playoff' 'khettry' 'broadcast' 'vs' 'polite' 'personal'\n",
      " 'golchowy' 'lucky' 'period' 'beat' 'arrogant' 'combinations' 'dkl' 'non'\n",
      " 'coach' 'ext' 'embarrasing' 'saving' 'honoured' 'allan' 'goal' 'earning'\n",
      " 'stiff' 'wangr' 'zones' 'shorts' 'helps' 'splits' 'peoples' 'standing'\n",
      " 'could' 'tvartiai' 'leaders' 'h' 'presently' 'stamber' 'angles' 'dishes'\n",
      " 'traded' 'flat' 'slap' 'overtime' 'counts' 'dangerous' 'round' 'wish'\n",
      " 'retort' 'cheese' 'producers' 'drew' 'shown' 'likes' 'vegetarian' 'night'\n",
      " 'shoots' 'younger' 'border' 'pro' 'jake' 'fewer' 'cyberspace' 'adjusted'\n",
      " 'expense' 'screen' 'values' 'conducive' 'fault' 'phrase' 'advice'\n",
      " 'understanding' 'occasional' 'excuses' 'join' 'grew' 'write' 'flagship'\n",
      " 'crucial' 'locker' 'showing' 'cholesterol' 'immediate' 'preceding'\n",
      " 'graduated' 'duties' 'standings' 'programs' 'insgnia' 'knew' 'stripped'\n",
      " 'students' 'cents' 'pool' 'interviews' 'newfound' 'problems' 'daniell'\n",
      " 'personally' 'cool' 'swinging' 'treated' 'guys' 'credence' 'penalized'\n",
      " 'kkeller' 'blank' 'stat' 'production' 'office' 'tervo' 'shift'\n",
      " 'dispersal' 'victors' 'ca' 'fight' 'throws' 'goes' 'relieved' 'vision'\n",
      " 'sets' 'recognise' 'judge' 'tervio' 'whether' 'specifications' 'dmoney'\n",
      " 'continent' 'asked' 'speech' 'onto' 'galvint' 'mount' 'competent'\n",
      " 'penalty' 'analysis' 'blotted' 'decibel' 'represents' 'studio' 'gargle'\n",
      " 'hair' 'players' 'wing' 'lets' 'forwards' 'eb' 'ages' 'interfered' 'ten'\n",
      " 'wrote' 'died' 'modest' 'armor' 'prg' 'almost' 'stark' 'replying' 'honor'\n",
      " 'golden' 'leaves' 'increased' 'loss' 'triples' 'must' 'scalpers'\n",
      " 'maniacal' 'impressive' 'flattering' 'file' 'declined' 'fame' 'tactics'\n",
      " 'answer' 'abotu' 'tv' 'considerably' 'populated' 'coincidence'\n",
      " 'hilarious' 'bust' 'retard' 'four' 'letter' 'shooting' 'header'\n",
      " 'stretcher' 'clearing' 'define' 'points' 'lights' 'adjusting' 'uptade'\n",
      " 'minnesota' 'g' 'mask' 'preceded' 'leafs' 'champion' 'coffee' 'content'\n",
      " 'proof' 'played' 'followed' 'network' 'fashion' 'chosen' 'inexpensive'\n",
      " 'claiming' 'whole' 'pick' 'horizon' 'fmsalvat' 'physical' 'quoted'\n",
      " 'revenge' 'puts' 'appreciated' 'tee' 'intelligence' 'email' 'fee' 'test'\n",
      " 'disciplined' 'helmets' 'fewest' 'sarcasm' 'adress' 'filed' 'punches'\n",
      " 'rd' 'cartlidge' 'assists' 'carry' 'mid' 'dollar' 'guns' 'prove' 'ing'\n",
      " 'steady' 'sheet' 'disclose' 'normally' 'opposite' 'spelling' 'evening'\n",
      " 'skills' 'en' 'soured' 'fire' 'complained' 'sort' 'stomach' 'blue'\n",
      " 'pigpens' 'keys' 'indicate' 'er' 'huot' 'elementary' 'instant' 'tad'\n",
      " 'contributors' 'begin' 'parts' 'yell' 'concession' 'contending' 'full'\n",
      " 'youth' 'tools' 'assholes' 'sent' 'bratt' 'deflected' 'cleared'\n",
      " 'selection' 'everywhere' 'ques' 'possession' 'measure' 'chronological'\n",
      " 'drugs' 'equally' 'memorable' 'disappointed' 'protests' 'anyway'\n",
      " 'package' 'fair' 'honest' 'foolish' 'read' 'beautiful' 'advisedly'\n",
      " 'aggressive' 'shall' 'hzazula' 'house' 'referring' 'networks'\n",
      " 'tremendously' 'metro' 'maynard' 'dinger' 'unfair' 'sometimes' 'weather'\n",
      " 'doubter' 'slacelle' 'quite' 'gjp' 'boards' 'saddled' 'garryola' 'scorer'\n",
      " 'rocket' 'editor' 'transplanted' 'generate' 'reading' 'draw' 'delaying'\n",
      " 'stuppid' 'puck' 'copyright' 'contains' 'simulcast' 'doubts' 'watch'\n",
      " 'circle' 'passport' 'quarters' 'rubbing' 'superb' 'jerseys' 'announced'\n",
      " 'crazy' 'tommorrow' 'pops' 'shots' 'breaker' 'pete' 'translation' 'topic']\n",
      "(352,)\n"
     ]
    }
   ],
   "source": [
    "p_vocab_indcies, n_vocab_indcies = get_selected_prediction_arr(1, vocab_arr, all_words_indcies, weights)\n",
    "\n",
    "print(vocab_arr[p_vocab_indcies][:64])\n",
    "print(vocab_arr[p_vocab_indcies].shape)\n",
    "print()\n",
    "print(vocab_arr[n_vocab_indcies])\n",
    "print(vocab_arr[n_vocab_indcies].shape)"
   ]
  },
  {
   "cell_type": "code",
   "execution_count": null,
   "id": "528ca310-6992-47d2-abba-6cfde0607313",
   "metadata": {},
   "outputs": [],
   "source": []
  }
 ],
 "metadata": {
  "kernelspec": {
   "display_name": "Python 3 (ipykernel)",
   "language": "python",
   "name": "python3"
  },
  "language_info": {
   "codemirror_mode": {
    "name": "ipython",
    "version": 3
   },
   "file_extension": ".py",
   "mimetype": "text/x-python",
   "name": "python",
   "nbconvert_exporter": "python",
   "pygments_lexer": "ipython3",
   "version": "3.10.6"
  }
 },
 "nbformat": 4,
 "nbformat_minor": 5
}
